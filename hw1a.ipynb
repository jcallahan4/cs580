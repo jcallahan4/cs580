{
 "cells": [
  {
   "cell_type": "code",
   "execution_count": 3,
   "metadata": {},
   "outputs": [],
   "source": [
    "import numpy as np\n",
    "import sympy"
   ]
  },
  {
   "cell_type": "markdown",
   "metadata": {},
   "source": [
    "# Homework 1a\n",
    "### Jake Callahan\n",
    "## Problem 2"
   ]
  },
  {
   "cell_type": "code",
   "execution_count": 4,
   "metadata": {},
   "outputs": [],
   "source": [
    "P = np.array([[2,3,1],[1,2,1],[1,1,1]])"
   ]
  },
  {
   "cell_type": "markdown",
   "metadata": {},
   "source": [
    "### a)\n",
    "Find $P^{-1}$, if it exists\n",
    "\n",
    "#### Solution:"
   ]
  },
  {
   "cell_type": "code",
   "execution_count": 7,
   "metadata": {},
   "outputs": [
    {
     "name": "stdout",
     "output_type": "stream",
     "text": [
      "P inverse:\n",
      "[[ 1. -2.  1.]\n",
      " [ 0.  1. -1.]\n",
      " [-1.  1.  1.]]\n"
     ]
    }
   ],
   "source": [
    "P_inv = np.linalg.inv(P)\n",
    "print('P inverse:')\n",
    "print(P_inv)"
   ]
  },
  {
   "cell_type": "markdown",
   "metadata": {},
   "source": [
    "### b)\n",
    "Suppose that in the standard basis a vector $x$ is given by $\\begin{bmatrix}2 \\\\ 1 \\\\ 4\\end{bmatrix}$. Find the representation of $x$ with respect to the basis defined by $P$.\n",
    "#### Solution:\n",
    "If $x = Px_b$, then $x_b = P^{-1}x$:"
   ]
  },
  {
   "cell_type": "code",
   "execution_count": 10,
   "metadata": {},
   "outputs": [
    {
     "name": "stdout",
     "output_type": "stream",
     "text": [
      "x in P basis:\n",
      "[ 4. -3.  3.]\n"
     ]
    }
   ],
   "source": [
    "x = np.array([2,1,4])\n",
    "x_b = P_inv @ x\n",
    "print('x in P basis:')\n",
    "print(x_b)"
   ]
  },
  {
   "cell_type": "markdown",
   "metadata": {},
   "source": [
    "## Problem 6\n",
    "Consider the matrix\n",
    "      $A = \\begin{bmatrix} -1 & 2 & 3 \\\\ 4 & -5 & 6 \\\\ 7 & 8 & -9\\end{bmatrix}$\n",
    "      \n",
    "a) Find a matrix $M$ such that $M^{-1} A M$ is diagonal  \n",
    "b) Does there exist a matrix $M$ that can diagonalize any square matrix $A$? Explain.   \n",
    "c) Determine the characteristic polynomical of $A$.\n",
    "\n",
    "### a)\n",
    "#### Solution"
   ]
  },
  {
   "cell_type": "code",
   "execution_count": 18,
   "metadata": {},
   "outputs": [
    {
     "name": "stdout",
     "output_type": "stream",
     "text": [
      "The matrix M is given by:\n",
      "[[-0.52501906 -0.6018843  -0.1182433 ]\n",
      " [-0.5918207   0.70453221 -0.49287447]\n",
      " [-0.6116398   0.37599157  0.86202858]]\n"
     ]
    }
   ],
   "source": [
    "A = np.array([[-1,2,3],[4,-5,6],[7,8,-9]])\n",
    "evals, evecs = np.linalg.eig(A)\n",
    "print('The matrix M is given by:')\n",
    "print(evecs)"
   ]
  },
  {
   "cell_type": "markdown",
   "metadata": {},
   "source": [
    "### b)\n",
    "#### Solution\n",
    "There is no such M because a singular matrix cannot be diagonalized."
   ]
  },
  {
   "cell_type": "markdown",
   "metadata": {},
   "source": [
    "### c)\n",
    "The characteristic polynomial is the polynomial whose roots are the eigenvalues calculated above. This can also be found by taking the determinant of $A - \\lambda I$. We compute this below:"
   ]
  },
  {
   "cell_type": "code",
   "execution_count": 28,
   "metadata": {},
   "outputs": [
    {
     "name": "stdout",
     "output_type": "stream",
     "text": [
      "The characteristic polynomial is:\n"
     ]
    },
    {
     "data": {
      "text/latex": [
       "$\\displaystyle \\operatorname{PurePoly}{\\left( λ^{3} + 15 λ^{2} - 18 λ - 360, λ, domain=\\mathbb{Z} \\right)}$"
      ],
      "text/plain": [
       "PurePoly(λ**3 + 15*λ**2 - 18*λ - 360, λ, domain='ZZ')"
      ]
     },
     "execution_count": 28,
     "metadata": {},
     "output_type": "execute_result"
    }
   ],
   "source": [
    "M = sympy.Matrix([[-1,2,3],[4,-5,6],[7,8,-9]])\n",
    "λ = sympy.symbols('λ')\n",
    "poly = M.charpoly(λ)\n",
    "print('The characteristic polynomial is:')\n",
    "poly"
   ]
  }
 ],
 "metadata": {
  "kernelspec": {
   "display_name": "Python 3",
   "language": "python",
   "name": "python3"
  },
  "language_info": {
   "codemirror_mode": {
    "name": "ipython",
    "version": 3
   },
   "file_extension": ".py",
   "mimetype": "text/x-python",
   "name": "python",
   "nbconvert_exporter": "python",
   "pygments_lexer": "ipython3",
   "version": "3.7.6"
  }
 },
 "nbformat": 4,
 "nbformat_minor": 4
}
