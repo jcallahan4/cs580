{
 "cells": [
  {
   "cell_type": "code",
   "execution_count": 230,
   "id": "f1716268",
   "metadata": {},
   "outputs": [],
   "source": [
    "import numpy as np\n",
    "from tabulate import tabulate\n",
    "from scipy.special import eval_legendre"
   ]
  },
  {
   "cell_type": "code",
   "execution_count": 59,
   "id": "c5ddf1e2",
   "metadata": {},
   "outputs": [],
   "source": [
    "data = np.genfromtxt('USpopulation.txt')[1:]"
   ]
  },
  {
   "cell_type": "markdown",
   "id": "468c57df",
   "metadata": {},
   "source": [
    "## Problem 2\n",
    "### Part (a)"
   ]
  },
  {
   "cell_type": "code",
   "execution_count": 177,
   "id": "b58f1e23",
   "metadata": {},
   "outputs": [],
   "source": [
    "def generate_T(degree, data):\n",
    "    N = data.shape[0]\n",
    "    M = degree\n",
    "    mat = np.zeros((N,M+1))\n",
    "\n",
    "    for i in range(degree+1):\n",
    "        mat[:,i] = data**i\n",
    "    \n",
    "    return mat\n",
    "\n",
    "def compute_least_sq(data, targets, degree):\n",
    "    T = generate_T(degree, data)\n",
    "    \n",
    "    betas, resids, _,_ = np.linalg.lstsq(T, targets,rcond=None)\n",
    "    \n",
    "    ss_error = np.sum(resids)\n",
    "    \n",
    "    y_pred = generate_T(degree, np.array([2020]))@betas\n",
    "    return y_pred, ss_error\n"
   ]
  },
  {
   "cell_type": "code",
   "execution_count": 180,
   "id": "099198f2",
   "metadata": {},
   "outputs": [],
   "source": [
    "preds, ss_errors = [], []\n",
    "degrees = np.arange(12)\n",
    "\n",
    "for degree in degrees:\n",
    "    y_pred, resid = compute_least_sq(data[:,0], data[:,1], degree)\n",
    "    preds.append(y_pred[0])\n",
    "    ss_errors.append(resid)"
   ]
  },
  {
   "cell_type": "code",
   "execution_count": 198,
   "id": "02412d6d",
   "metadata": {
    "scrolled": false
   },
   "outputs": [
    {
     "name": "stdout",
     "output_type": "stream",
     "text": [
      "╒══════════╤═══════════════════╤═══════════════════╕\n",
      "│   Degree │   Sum of sq error │   Predicted price │\n",
      "╞══════════╪═══════════════════╪═══════════════════╡\n",
      "│        0 │         64833.1   │     177.341       │\n",
      "├──────────┼───────────────────┼───────────────────┤\n",
      "│        1 │          1211.73  │     314.444       │\n",
      "├──────────┼───────────────────┼───────────────────┤\n",
      "│        2 │           106.477 │     342.047       │\n",
      "├──────────┼───────────────────┼───────────────────┤\n",
      "│        3 │             0     │     342.596       │\n",
      "├──────────┼───────────────────┼───────────────────┤\n",
      "│        4 │             0     │     343.076       │\n",
      "├──────────┼───────────────────┼───────────────────┤\n",
      "│        5 │             0     │     343.488       │\n",
      "├──────────┼───────────────────┼───────────────────┤\n",
      "│        6 │             0     │  -25992.2         │\n",
      "├──────────┼───────────────────┼───────────────────┤\n",
      "│        7 │             0     │   19128.8         │\n",
      "├──────────┼───────────────────┼───────────────────┤\n",
      "│        8 │             0     │   -1113.94        │\n",
      "├──────────┼───────────────────┼───────────────────┤\n",
      "│        9 │             0     │       0.573568    │\n",
      "├──────────┼───────────────────┼───────────────────┤\n",
      "│       10 │             0     │      -0.000185708 │\n",
      "├──────────┼───────────────────┼───────────────────┤\n",
      "│       11 │             0     │      -3.7971e-08  │\n",
      "╘══════════╧═══════════════════╧═══════════════════╛\n"
     ]
    }
   ],
   "source": [
    "dat = np.array([np.arange(12).tolist(), ss_errors, preds]).T\n",
    "headers = [\"Degree\", \"Sum of sq error\", \"Predicted price\"]\n",
    "\n",
    "# Generate the table in fancy format.\n",
    "table = tabulate(dat, headers, tablefmt=\"fancy_grid\")\n",
    "\n",
    "# # Show it.\n",
    "print(table)"
   ]
  },
  {
   "cell_type": "markdown",
   "id": "d28d37a0",
   "metadata": {},
   "source": [
    "A fourth or fifth degree polynomial seems to provide the best fit."
   ]
  },
  {
   "cell_type": "markdown",
   "id": "3a3b23cf",
   "metadata": {},
   "source": [
    "### Part (b)"
   ]
  },
  {
   "cell_type": "code",
   "execution_count": 231,
   "id": "78c47eeb",
   "metadata": {},
   "outputs": [
    {
     "name": "stdout",
     "output_type": "stream",
     "text": [
      "╒══════════╤════════════════════╕\n",
      "│   Degree │   Condition number │\n",
      "╞══════════╪════════════════════╡\n",
      "│        0 │        1           │\n",
      "├──────────┼────────────────────┤\n",
      "│        1 │   110752           │\n",
      "├──────────┼────────────────────┤\n",
      "│        2 │        1.38617e+10 │\n",
      "├──────────┼────────────────────┤\n",
      "│        3 │        1.80046e+15 │\n",
      "├──────────┼────────────────────┤\n",
      "│        4 │        2.41813e+20 │\n",
      "├──────────┼────────────────────┤\n",
      "│        5 │        3.52671e+25 │\n",
      "├──────────┼────────────────────┤\n",
      "│        6 │        1.26134e+30 │\n",
      "├──────────┼────────────────────┤\n",
      "│        7 │        2.0031e+36  │\n",
      "├──────────┼────────────────────┤\n",
      "│        8 │        1.09297e+36 │\n",
      "├──────────┼────────────────────┤\n",
      "│        9 │        1.94202e+39 │\n",
      "├──────────┼────────────────────┤\n",
      "│       10 │        4.33137e+43 │\n",
      "├──────────┼────────────────────┤\n",
      "│       11 │        1.18455e+47 │\n",
      "╘══════════╧════════════════════╛\n"
     ]
    }
   ],
   "source": [
    "conds = []\n",
    "Ts = []\n",
    "\n",
    "for degree in degrees:\n",
    "    T = generate_T(degree, data[:,0])\n",
    "    Ts.append(T)\n",
    "    conds.append(np.linalg.cond(T))\n",
    "\n",
    "dat = np.array([np.arange(12).tolist(), conds]).T\n",
    "headers = [\"Degree\", \"Condition number\"]\n",
    "\n",
    "# Generate the table in fancy format.\n",
    "table = tabulate(dat, headers, tablefmt=\"fancy_grid\")\n",
    "\n",
    "# # Show it.\n",
    "print(table)"
   ]
  },
  {
   "cell_type": "markdown",
   "id": "07af09f4",
   "metadata": {},
   "source": [
    "### Part (c)"
   ]
  },
  {
   "cell_type": "code",
   "execution_count": 223,
   "id": "84c4a83c",
   "metadata": {},
   "outputs": [],
   "source": [
    "def generate_T_legendre(degree, data):\n",
    "    N = data.shape[0]\n",
    "    M = degree\n",
    "    mat = np.zeros((N,M+1))\n",
    "\n",
    "    for i in range(degree+1):\n",
    "        mat[:,i] = [eval_legendre(i, t) for t in data]\n",
    "    \n",
    "    return mat\n",
    "\n",
    "\n",
    "M = np.array([[1900, 1], [2010, 1]])\n",
    "a, b = np.linalg.solve(M, np.array([-1,1]))\n",
    "def tau(t):\n",
    "    return a*t + b\n",
    "\n",
    "taus = tau(data[:,0])"
   ]
  },
  {
   "cell_type": "code",
   "execution_count": 233,
   "id": "3c42b568",
   "metadata": {},
   "outputs": [
    {
     "name": "stdout",
     "output_type": "stream",
     "text": [
      "╒══════════╤════════════════════╕\n",
      "│   Degree │   Condition number │\n",
      "╞══════════╪════════════════════╡\n",
      "│        0 │            1       │\n",
      "├──────────┼────────────────────┤\n",
      "│        1 │            1.59326 │\n",
      "├──────────┼────────────────────┤\n",
      "│        2 │            1.93388 │\n",
      "├──────────┼────────────────────┤\n",
      "│        3 │            2.2886  │\n",
      "├──────────┼────────────────────┤\n",
      "│        4 │            2.73446 │\n",
      "├──────────┼────────────────────┤\n",
      "│        5 │            3.17768 │\n",
      "├──────────┼────────────────────┤\n",
      "│        6 │            3.73611 │\n",
      "├──────────┼────────────────────┤\n",
      "│        7 │            4.42573 │\n",
      "├──────────┼────────────────────┤\n",
      "│        8 │            5.89656 │\n",
      "├──────────┼────────────────────┤\n",
      "│        9 │            9.12392 │\n",
      "├──────────┼────────────────────┤\n",
      "│       10 │           19.8846  │\n",
      "├──────────┼────────────────────┤\n",
      "│       11 │           67.4973  │\n",
      "╘══════════╧════════════════════╛\n"
     ]
    }
   ],
   "source": [
    "conds = []\n",
    "Ts = []\n",
    "\n",
    "for degree in degrees:\n",
    "    T = generate_T_legendre(degree, taus)\n",
    "    Ts.append(T)\n",
    "    conds.append(np.linalg.cond(T))\n",
    "    \n",
    "dat = np.array([np.arange(12).tolist(), conds]).T\n",
    "headers = [\"Degree\", \"Condition number\"]\n",
    "\n",
    "# Generate the table in fancy format.\n",
    "table = tabulate(dat, headers, tablefmt=\"fancy_grid\")\n",
    "\n",
    "# # Show it.\n",
    "print(table)"
   ]
  }
 ],
 "metadata": {
  "kernelspec": {
   "display_name": "Python [conda env:tsunamibayes] *",
   "language": "python",
   "name": "conda-env-tsunamibayes-py"
  },
  "language_info": {
   "codemirror_mode": {
    "name": "ipython",
    "version": 3
   },
   "file_extension": ".py",
   "mimetype": "text/x-python",
   "name": "python",
   "nbconvert_exporter": "python",
   "pygments_lexer": "ipython3",
   "version": "3.9.7"
  }
 },
 "nbformat": 4,
 "nbformat_minor": 5
}
