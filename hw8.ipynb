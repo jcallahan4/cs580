{
 "cells": [
  {
   "cell_type": "code",
   "execution_count": 20,
   "metadata": {},
   "outputs": [],
   "source": [
    "import numpy as np\n",
    "import sympy as sy\n",
    "from copy import copy\n",
    "from tqdm import tqdm\n",
    "import random\n",
    "import numpy as np\n",
    "import pandas as pd\n",
    "import seaborn as sns\n",
    "import matplotlib.pyplot as plt"
   ]
  },
  {
   "cell_type": "code",
   "execution_count": 5,
   "metadata": {},
   "outputs": [],
   "source": [
    "class DynamicSystemConverter():\n",
    "    def __init__(self, A, B, C):\n",
    "        self.A = sy.Matrix(A)\n",
    "        self.B = sy.Matrix(B)\n",
    "        self.C = sy.Matrix(C)\n",
    "        # assume D = np.zeros_like(B)\n",
    "\n",
    "    def getTF(self):\n",
    "        ''' computes the transfer function for sympy matrices A, B, and C'''\n",
    "\n",
    "        sI_Ainv = self._getSI_Minv(A)\n",
    "        G = self.C * sI_Ainv * self.B # + D (if D were non-zero -- also, this is not the same D as used in the DSF functions!)\n",
    "        return G\n",
    "\n",
    "    def getDSF(self):\n",
    "        ''' \n",
    "            Assumes the state (the 'x' in \\dot{x} = Ax + Bu) is of the \n",
    "            form such that if there are n visible states and m hidden states,\n",
    "                x[:n] comprises the visible states, while\n",
    "                x[n:m] = x[n:] comprises the hidden states\n",
    "            This also implies that C is of the form [I, 0].\n",
    "            In addition, we assume D = 0 ('D' as in y = Cx + Du)\n",
    "\n",
    "            Calculate P and Q in 4 steps:\n",
    "                1. partition A and B\n",
    "                2. calculate W and V\n",
    "                3. calculate D (a different D from the 'D' in y = Cx + Du)\n",
    "                4. use W, D, and V to calculate P and Q\n",
    "        '''\n",
    "    \n",
    "        A11, A12, A21, A22, B1, B2 = self._partitionAB(self.A, self.B, self.C)\n",
    "    \n",
    "        sI_A22inv = self._getSI_Minv(A22) # only calculate this inverse once (for speed)\n",
    "        W = self._getW(A11, A12, A21, sI_A22inv)\n",
    "        V = self._getV(A12, sI_A22inv, B1, B2)\n",
    "        \n",
    "        D = self._getD(W)\n",
    "        sI_Dinv = self._getSI_Minv(D) # as above, pre-calculate this so we only take the inverse once\n",
    "    \n",
    "        Q = self._getQ(sI_Dinv, W, D)\n",
    "        P = self._getP(sI_Dinv, V)\n",
    "    \n",
    "        return Q, P\n",
    "    \n",
    "    def convertDSFtoTF(self, Q, P):\n",
    "        ''' convert a dynamic structure function to a transfer function '''\n",
    "        I_Q = sy.eye(Q.shape[0]) - Q\n",
    "        I_Qinv = I_Q ** -1\n",
    "        G = I_Qinv * P\n",
    "        G = G.applyfunc(sy.simplify) # simplify the fractions in each index\n",
    "        return G\n",
    "\n",
    "    def _getSI_Minv(self, matrix):\n",
    "        ''' computes (sI - M)^{-1} '''\n",
    "\n",
    "        eye = sy.eye(matrix.shape[0])\n",
    "        s = sy.symbols(\"s\")\n",
    "        sI_M = (s * eye) - matrix\n",
    "        sI_Minv = sI_M**-1\n",
    "        return sI_Minv\n",
    "\n",
    "    def _partitionAB(self, A, B, C):\n",
    "        ''' Assume C is of the form [I, 0] '''\n",
    "    \n",
    "        numVisibleStates = C.shape[0]\n",
    "    \n",
    "        A11 = A[:numVisibleStates,:numVisibleStates]\n",
    "        A12 = A[:numVisibleStates,numVisibleStates:]\n",
    "        A21 = A[numVisibleStates:,:numVisibleStates]\n",
    "        A22 = A[numVisibleStates:,numVisibleStates:]\n",
    "    \n",
    "        B1 = B[:numVisibleStates,:numVisibleStates]\n",
    "        B2 = B[numVisibleStates:,:]\n",
    "    \n",
    "        return A11, A12, A21, A22, B1, B2\n",
    "\n",
    "    def _getW(self, A11, A12, A21, sI_A22inv):\n",
    "        W = A11 + (A12 * sI_A22inv * A21)\n",
    "        return W\n",
    "    \n",
    "    def _getV(self, A12, sI_A22inv, B1, B2):\n",
    "        V = (A12 * sI_A22inv * B2) + B1\n",
    "        return V\n",
    "    \n",
    "    def _getD(self, W):\n",
    "        ''' \n",
    "            so this code is a little funny because\n",
    "            np.diag() on a matrix extracts the diagonals,\n",
    "            but np.diag() on a vector convets it to a diagonal matrix\n",
    "        '''\n",
    "        D = sy.Matrix(np.diag(np.diag(np.array(W.tolist()))))\n",
    "        return D\n",
    "    \n",
    "    def _getQ(self, sI_Dinv, W, D):\n",
    "        return sI_Dinv * (W - D)\n",
    "    \n",
    "    def _getP(self, sI_Dinv, V):\n",
    "        return sI_Dinv * V"
   ]
  },
  {
   "cell_type": "code",
   "execution_count": 6,
   "metadata": {},
   "outputs": [],
   "source": [
    "A = np.array([[-1, 0, 0, 1, 0, 0],\n",
    "               [ 0,-2, 0, 0, 1, 0],\n",
    "               [ 0, 0,-3, 0, 0, 1],\n",
    "               [ 0, 0, 1,-4, 0, 0],\n",
    "               [ 1, 0, 0, 0,-5, 0],\n",
    "               [ 0, 1, 0, 0, 0,-6]])\n",
    "\n",
    "B = np.array([[0,0,0],\n",
    "               [0,0,0],\n",
    "               [0,0,0],\n",
    "               [1,0,0],\n",
    "               [0,1,0],\n",
    "               [0,0,1]])\n",
    "\n",
    "C = np.array([[1,0,0,0,0,0],\n",
    "               [0,1,0,0,0,0],\n",
    "               [0,0,1,0,0,0]])"
   ]
  },
  {
   "cell_type": "code",
   "execution_count": 12,
   "metadata": {},
   "outputs": [],
   "source": [
    "converter = DynamicSystemConverter(A, B, C)\n",
    "G1 = converter.getTF() # get the transfer function\n",
    "Q, P = converter.getDSF() # get the dynamical structure function\n",
    "G2 = converter.convertDSFtoTF(Q, P) "
   ]
  },
  {
   "cell_type": "code",
   "execution_count": 19,
   "metadata": {},
   "outputs": [
    {
     "name": "stdout",
     "output_type": "stream",
     "text": [
      "Transfer function:\n",
      "⎡            4       3       2                                                \n",
      "⎢           s  + 16⋅s  + 91⋅s  + 216⋅s + 180                                  \n",
      "⎢─────────────────────────────────────────────────────  ──────────────────────\n",
      "⎢ 6       5        4        3         2                  6       5        4   \n",
      "⎢s  + 21⋅s  + 175⋅s  + 735⋅s  + 1624⋅s  + 1764⋅s + 719  s  + 21⋅s  + 175⋅s  + \n",
      "⎢                                                                             \n",
      "⎢                     2                                             4       3 \n",
      "⎢                    s  + 9⋅s + 18                                 s  + 14⋅s  \n",
      "⎢─────────────────────────────────────────────────────  ──────────────────────\n",
      "⎢ 6       5        4        3         2                  6       5        4   \n",
      "⎢s  + 21⋅s  + 175⋅s  + 735⋅s  + 1624⋅s  + 1764⋅s + 719  s  + 21⋅s  + 175⋅s  + \n",
      "⎢                                                                             \n",
      "⎢                                                                             \n",
      "⎢                          1                                                 s\n",
      "⎢─────────────────────────────────────────────────────  ──────────────────────\n",
      "⎢ 6       5        4        3         2                  6       5        4   \n",
      "⎣s  + 21⋅s  + 175⋅s  + 735⋅s  + 1624⋅s  + 1764⋅s + 719  s  + 21⋅s  + 175⋅s  + \n",
      "\n",
      "                                                      2                       \n",
      "    1                                                s  + 7⋅s + 10            \n",
      "───────────────────────────────  ─────────────────────────────────────────────\n",
      "     3         2                  6       5        4        3         2       \n",
      "735⋅s  + 1624⋅s  + 1764⋅s + 719  s  + 21⋅s  + 175⋅s  + 735⋅s  + 1624⋅s  + 1764\n",
      "                                                                              \n",
      "      2                                                                       \n",
      "+ 67⋅s  + 126⋅s + 72                                       1                  \n",
      "───────────────────────────────  ─────────────────────────────────────────────\n",
      "     3         2                  6       5        4        3         2       \n",
      "735⋅s  + 1624⋅s  + 1764⋅s + 719  s  + 21⋅s  + 175⋅s  + 735⋅s  + 1624⋅s  + 1764\n",
      "                                                                              \n",
      "2                                             4       3       2               \n",
      "  + 5⋅s + 4                                  s  + 12⋅s  + 49⋅s  + 78⋅s + 40   \n",
      "───────────────────────────────  ─────────────────────────────────────────────\n",
      "     3         2                  6       5        4        3         2       \n",
      "735⋅s  + 1624⋅s  + 1764⋅s + 719  s  + 21⋅s  + 175⋅s  + 735⋅s  + 1624⋅s  + 1764\n",
      "\n",
      "        ⎤\n",
      "        ⎥\n",
      "────────⎥\n",
      "        ⎥\n",
      "⋅s + 719⎥\n",
      "        ⎥\n",
      "        ⎥\n",
      "        ⎥\n",
      "────────⎥\n",
      "        ⎥\n",
      "⋅s + 719⎥\n",
      "        ⎥\n",
      "        ⎥\n",
      "        ⎥\n",
      "────────⎥\n",
      "        ⎥\n",
      "⋅s + 719⎦\n"
     ]
    }
   ],
   "source": [
    "print('Transfer function:')\n",
    "sy.pprint(G1)"
   ]
  },
  {
   "cell_type": "markdown",
   "metadata": {},
   "source": [
    "Check if $G(s) = (I −Q(s))^{−1} P (s)$:"
   ]
  },
  {
   "cell_type": "code",
   "execution_count": 18,
   "metadata": {},
   "outputs": [
    {
     "name": "stdout",
     "output_type": "stream",
     "text": [
      "Equality achieved: True\n"
     ]
    }
   ],
   "source": [
    "print(f'Equality achieved: {G1.equals(G2)}')"
   ]
  },
  {
   "cell_type": "markdown",
   "metadata": {},
   "source": [
    "## Problem 3"
   ]
  },
  {
   "cell_type": "code",
   "execution_count": 23,
   "metadata": {},
   "outputs": [],
   "source": [
    "runsDf = pd.read_csv(\"runs.csv\")\n",
    "payoffs = runsDf[runsDf.columns[1:]].to_numpy() # [1:] gets rid of the index column that is erroneously read in\n",
    "\n",
    "mlbAvgDf = pd.read_csv(\"MLBAVG.csv\")\n",
    "mlbAvg = mlbAvgDf[mlbAvgDf.columns[1:]].to_numpy()\n",
    "\n",
    "gordGamDf = pd.read_csv(\"GordonGamel.csv\")\n",
    "gordGamDf = gordGamDf[gordGamDf.columns[1:]]\n",
    "\n",
    "# read in the other players\n",
    "otherPlayers = [\"dspan\",\"jsegura\",\"kseager\",\"mhaniger\",\"mzunino\",\"ncruz\",\"rcano\",\"rhealy\"]\n",
    "transitions = []\n",
    "for player in otherPlayers:\n",
    "    df = pd.read_csv(player + \".csv\")\n",
    "    transitionMatrix = df[df.columns[1:]].to_numpy()\n",
    "    transitions.append(transitionMatrix)\n",
    "\n",
    "playersToRuns = dict(zip(otherPlayers, transitions)) # we don't actually use this, but it seems right to have around"
   ]
  },
  {
   "cell_type": "code",
   "execution_count": 25,
   "metadata": {},
   "outputs": [
    {
     "name": "stdout",
     "output_type": "stream",
     "text": [
      "{'000 0': 0, '000 1': 1, '000 2': 2, '001 0': 3, '001 1': 4, '001 2': 5, '010 0': 6, '010 1': 7, '010 2': 8, '011 0': 9, '011 1': 10, '011 2': 11, '100 0': 12, '100 1': 13, '100 2': 14, '101 0': 15, '101 1': 16, '101 2': 17, '110 0': 18, '110 1': 19, '110 2': 20, '111 0': 21, '111 1': 22, '111 2': 23, '3': 24}\n"
     ]
    }
   ],
   "source": [
    "indices = np.arange(0, len(runsDf.columns) - 1)\n",
    "encodingToIndex = dict(zip(runsDf.columns[1:-1], indices))\n",
    "encodingToIndex[\"3\"] = 24\n",
    "print(encodingToIndex)"
   ]
  },
  {
   "cell_type": "markdown",
   "metadata": {},
   "source": [
    "## Part 1"
   ]
  },
  {
   "cell_type": "code",
   "execution_count": 26,
   "metadata": {},
   "outputs": [
    {
     "name": "stderr",
     "output_type": "stream",
     "text": [
      "/Users/jakecallahan/opt/anaconda3/envs/580/lib/python3.7/site-packages/ipykernel_launcher.py:15: RuntimeWarning: invalid value encountered in true_divide\n",
      "  from ipykernel import kernelapp as app\n"
     ]
    },
    {
     "data": {
      "image/png": "[encoded data removed]",
      "text/plain": [
       "<Figure size 432x288 with 2 Axes>"
      ]
     },
     "metadata": {
      "needs_background": "light"
     },
     "output_type": "display_data"
    },
    {
     "data": {
      "image/png": "[encoded data removed]",
      "text/plain": [
       "<Figure size 432x288 with 2 Axes>"
      ]
     },
     "metadata": {
      "needs_background": "light"
     },
     "output_type": "display_data"
    },
    {
     "data": {
      "image/png": "[encoded data removed]",
      "text/plain": [
       "<Figure size 432x288 with 2 Axes>"
      ]
     },
     "metadata": {
      "needs_background": "light"
     },
     "output_type": "display_data"
    }
   ],
   "source": [
    "numStartStates = mlbAvg.shape[0]\n",
    "numEndStates = mlbAvg.shape[1]\n",
    "\n",
    "def getTransitionMatrix(df, numStartStates=numStartStates, numEndStates=numEndStates):\n",
    "    \n",
    "    # store historic state transitions\n",
    "    tMatrix = np.zeros((numStartStates, numEndStates))\n",
    "    for index, row in df.iterrows():\n",
    "        i1 = encodingToIndex[row[\"STATE\"]]\n",
    "        i2 = encodingToIndex[row[\"NEW.STATE\"]]\n",
    "        tMatrix[i1, i2] += 1\n",
    "\n",
    "    # normalize to probabilities\n",
    "    sums = np.sum(tMatrix, axis=1)\n",
    "    tMatrix = (tMatrix.T / np.sum(tMatrix, axis=1)).T\n",
    "\n",
    "    # replace the missing components\n",
    "    mask = sums == 0\n",
    "    tMatrix[mask] = mlbAvg[mask]\n",
    "\n",
    "    return tMatrix\n",
    "\n",
    "# keep only the rows associated with each player\n",
    "gordDf = gordGamDf[gordGamDf[\"batter\"] == \"Gordon\"]\n",
    "gamDf = gordGamDf[gordGamDf[\"batter\"] == \"Gamel\"]\n",
    "\n",
    "# convert to transition matrices\n",
    "gordonTransition = getTransitionMatrix(gordDf)\n",
    "gamelTransition = getTransitionMatrix(gamDf)\n",
    "\n",
    "# visualize *************************\n",
    "\n",
    "sns.heatmap(gordonTransition)\n",
    "plt.title(\"Gordan's Transition Matrix\")\n",
    "plt.ylabel(\"input state\")\n",
    "plt.xlabel(\"output state\")\n",
    "plt.show()\n",
    "\n",
    "sns.heatmap(gamelTransition)\n",
    "plt.title(\"Gamel's Transition Matrix\")\n",
    "plt.ylabel(\"input state\")\n",
    "plt.xlabel(\"output state\")\n",
    "plt.show()\n",
    "\n",
    "sns.heatmap(mlbAvg)\n",
    "plt.title(\"MLB Average Transition Matrix\")\n",
    "plt.ylabel(\"input state\")\n",
    "plt.xlabel(\"output state\")\n",
    "plt.show()"
   ]
  },
  {
   "cell_type": "markdown",
   "metadata": {},
   "source": [
    "## Part 3\n",
    "Using an average is reasonable, since it is in a sense just using the mean of the distribution you assume the players to be distributed on. However, unless the players are extremely average (which we don't believe to be the case) then we know that the mean isn't a correct value for these specific players. If you wanted to get more specific, you might look at the MLB average for the states that we do have player data for and then examing how far away from that average the player's data is, and then use that to infer where the player's data would be for the states we don't have info for."
   ]
  },
  {
   "cell_type": "markdown",
   "metadata": {},
   "source": [
    "## Part 4"
   ]
  },
  {
   "cell_type": "code",
   "execution_count": 27,
   "metadata": {},
   "outputs": [],
   "source": [
    "class SeasonModel():\n",
    "    def __init__(self, lineup):\n",
    "        ''' lineup is a list of transition matrices '''\n",
    "        self.lineup = lineup\n",
    "        assert len(self.lineup) == 9\n",
    "        self.gamePoints = []\n",
    "\n",
    "    def getPoints(self, startIndex, endIndex):\n",
    "        ''' return the points earned by a given transition '''\n",
    "        return payoffs[startIndex, endIndex]\n",
    "\n",
    "    def transitionState(self, transitionMatrix, inputState):\n",
    "        ''' move the markov model to the next timestep '''\n",
    "        probabilities = transitionMatrix[inputState,:]\n",
    "        indices = np.arange(probabilities.shape[0])\n",
    "        outputState = np.random.choice(indices, p=probabilities) \n",
    "        return outputState\n",
    "\n",
    "    def inningSim(self, currentBatter):\n",
    "        ''' simulate 1 inning '''\n",
    "\n",
    "        currentState = 0\n",
    "        pointsEarned = 0\n",
    "        while currentState != 24:\n",
    "            # get the transition matrix for the current batter\n",
    "            currentTransitionMatrix = self.lineup[currentBatter]\n",
    "\n",
    "            # transition to the next state\n",
    "            nextState = self.transitionState(currentTransitionMatrix, currentState)\n",
    "            pointsEarned += self.getPoints(currentState, nextState)\n",
    "            currentState = nextState\n",
    "\n",
    "            # transition to the next batter \n",
    "            currentBatter += 1\n",
    "            currentBatter = currentBatter % len(self.lineup)\n",
    "\n",
    "        return currentBatter, pointsEarned\n",
    "\n",
    "    def gameSim(self,):\n",
    "        ''' simulate 9 innings using the given lineup '''\n",
    "\n",
    "        currentBatter = 0\n",
    "        gamePointsEarned = 0\n",
    "        for i in range(9):\n",
    "            currentBatter, inningPoints = self.inningSim(currentBatter)\n",
    "            gamePointsEarned += inningPoints\n",
    "        self.gamePoints.append(gamePointsEarned) \n",
    "    \n",
    "    def battingSim(self,totalGames=162):\n",
    "        ''' simulate a season's worth of games and record the points ''' \n",
    "        for i in range(totalGames):\n",
    "            self.gameSim()\n",
    "            self.shuffleLineup()\n",
    "        return np.mean(self.gamePoints)\n",
    "\n",
    "    def shuffleLineup(self):\n",
    "        ''' shuffle the lineup to make a season more realistic '''\n",
    "        random.shuffle(self.lineup)\n"
   ]
  },
  {
   "cell_type": "markdown",
   "metadata": {},
   "source": [
    "## Part 5"
   ]
  },
  {
   "cell_type": "code",
   "execution_count": 28,
   "metadata": {},
   "outputs": [],
   "source": [
    "def compareLineups(lineup1, lineup2, numIterations):\n",
    "    ''' given two lineups (lists of transition matrices),\n",
    "    return the simulated scores across 'numIterations' simulations '''\n",
    "    model1 = SeasonModel(lineup1)\n",
    "    model2 = SeasonModel(lineup2)\n",
    "\n",
    "    model1Scores = []\n",
    "    model2Scores = []\n",
    "    for i in tqdm(range(numIterations)):\n",
    "        meanModel1SeasonScore = model1.battingSim()\n",
    "        meanModel2SeasonScore = model2.battingSim()\n",
    "\n",
    "        model1Scores.append(meanModel1SeasonScore)\n",
    "        model2Scores.append(meanModel2SeasonScore)\n",
    "\n",
    "    return model1Scores, model2Scores\n",
    "\n",
    "def visualizeLineups(scores1, scores2, name1, name2):\n",
    "    ''' utility function for visualizing the difference between two lineups '''\n",
    "    \n",
    "    print()\n",
    "    print(\"mean score for \", name1, np.mean(scores1))\n",
    "    print(\"mean score for \", name2, np.mean(scores2))\n",
    "\n",
    "    if np.mean(scores1) > np.mean(scores2):\n",
    "        print(\"the team would be better off with\", name1)\n",
    "    elif np.mean(scores1) < np.mean(scores2):\n",
    "        print(\"the team would be better off with\", name2)\n",
    "    else:\n",
    "        print(\"both players are equally good\")   \n",
    "    plt.hist(scores1, label=name1, alpha=0.5)\n",
    "    plt.hist(scores2, label=name2, alpha=0.5)\n",
    "    plt.legend()\n",
    "    plt.title(\"Mean Season/Game Scores\")\n",
    "    plt.show()"
   ]
  },
  {
   "cell_type": "markdown",
   "metadata": {},
   "source": [
    "## Part 6"
   ]
  },
  {
   "cell_type": "code",
   "execution_count": 29,
   "metadata": {},
   "outputs": [
    {
     "name": "stderr",
     "output_type": "stream",
     "text": [
      "100%|██████████| 100/100 [00:37<00:00,  2.68it/s]"
     ]
    },
    {
     "name": "stdout",
     "output_type": "stream",
     "text": [
      "\n",
      "mean score for  gordon 5.544224723190939\n",
      "mean score for  gamel 5.827305455734874\n",
      "the team would be better off with gamel\n"
     ]
    },
    {
     "name": "stderr",
     "output_type": "stream",
     "text": [
      "\n"
     ]
    },
    {
     "data": {
      "image/png": "[encoded data removed]",
      "text/plain": [
       "<Figure size 432x288 with 1 Axes>"
      ]
     },
     "metadata": {
      "needs_background": "light"
     },
     "output_type": "display_data"
    }
   ],
   "source": [
    "gordonLineup = copy(transitions)\n",
    "gordonLineup.append(gordonTransition)\n",
    "\n",
    "gamelLineup = copy(transitions)\n",
    "gamelLineup.append(gamelTransition)\n",
    "\n",
    "gordonScores, gamelScores = compareLineups(gordonLineup, gamelLineup, 100)\n",
    "\n",
    "visualizeLineups(gordonScores, gamelScores, \"gordon\", \"gamel\")"
   ]
  },
  {
   "cell_type": "code",
   "execution_count": null,
   "metadata": {},
   "outputs": [],
   "source": []
  }
 ],
 "metadata": {
  "kernelspec": {
   "display_name": "580",
   "language": "python",
   "name": "580"
  },
  "language_info": {
   "codemirror_mode": {
    "name": "ipython",
    "version": 3
   },
   "file_extension": ".py",
   "mimetype": "text/x-python",
   "name": "python",
   "nbconvert_exporter": "python",
   "pygments_lexer": "ipython3",
   "version": "3.7.6"
  }
 },
 "nbformat": 4,
 "nbformat_minor": 4
}
